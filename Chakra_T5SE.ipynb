{
  "nbformat": 4,
  "nbformat_minor": 0,
  "metadata": {
    "colab": {
      "provenance": [],
      "authorship_tag": "ABX9TyMzljIIz8iBjiEf8+WU5tw6",
      "include_colab_link": true
    },
    "kernelspec": {
      "name": "python3",
      "display_name": "Python 3"
    },
    "language_info": {
      "name": "python"
    }
  },
  "cells": [
    {
      "cell_type": "markdown",
      "metadata": {
        "id": "view-in-github",
        "colab_type": "text"
      },
      "source": [
        "<a href=\"https://colab.research.google.com/github/Titan-punch004/T5SE/blob/main/Chakra_T5SE.ipynb\" target=\"_parent\"><img src=\"https://colab.research.google.com/assets/colab-badge.svg\" alt=\"Open In Colab\"/></a>"
      ]
    },
    {
      "cell_type": "code",
      "execution_count": null,
      "metadata": {
        "colab": {
          "base_uri": "https://localhost:8080/"
        },
        "id": "uE9XQyFo4CMJ",
        "outputId": "983b82e5-b7f2-44c9-fa35-20bba2e1d990"
      },
      "outputs": [
        {
          "output_type": "stream",
          "name": "stdout",
          "text": [
            "At time 11 seconds, the temperature is 182.10°C.\n"
          ]
        }
      ],
      "source": [
        "#Hardcoding Variables\n",
        "a = 1.6\n",
        "b = -3.5\n",
        "c = 27.0\n",
        "time = 11\n",
        "\n",
        "temperature = a * (time ** 2) + b * time + c\n",
        "\n",
        "\n",
        "print(f\"At time {time} seconds, the temperature is {temperature:.2f}°C.\")"
      ]
    },
    {
      "cell_type": "code",
      "source": [
        "# Accept coefficients from the user\n",
        "a = float(input(\"Enter the coefficient 'a' (for time^2): \"))\n",
        "b = float(input(\"Enter the coefficient 'b' (for time): \"))\n",
        "c = float(input(\"Enter the constant 'c': \"))\n",
        "\n",
        "time = float(input(\"Enter the time value (seconds): \"))\n",
        "\n",
        "\n",
        "temperature = a * (time ** 2) + b * time + c\n",
        "\n",
        "\n",
        "print(f\"At time {time} seconds, the temperature is {temperature:.2f}°C.\")"
      ],
      "metadata": {
        "colab": {
          "base_uri": "https://localhost:8080/"
        },
        "id": "_FxcdUhc4l08",
        "outputId": "b6c614a9-792f-4d10-c4e5-417f1ed190ff"
      },
      "execution_count": null,
      "outputs": [
        {
          "output_type": "stream",
          "name": "stdout",
          "text": [
            "Enter the coefficient 'a' (for time^2): 12\n",
            "Enter the coefficient 'b' (for time): 22\n",
            "Enter the constant 'c': 5\n",
            "Enter the time value (seconds): 40\n",
            "At time 40.0 seconds, the temperature is 20085.00°C.\n"
          ]
        }
      ]
    },
    {
      "cell_type": "code",
      "source": [
        "# Read variables from a file\n",
        "def read_variables_from_file(filename):\n",
        "    variables = {}\n",
        "    with open(filename, 'r') as file:\n",
        "        for line in file:\n",
        "            # Split the line into a key and value\n",
        "            key, value = line.strip().split('=')\n",
        "            variables[key] = float(value)  # Convert value to float\n",
        "    return variables\n",
        "\n",
        "filename = 'variable.txt'\n",
        "\n",
        "variables = read_variables_from_file(filename)\n",
        "\n",
        "a = variables['a']\n",
        "b = variables['b']\n",
        "c = variables['c']\n",
        "time = variables['time']\n",
        "\n",
        "\n",
        "temperature = a * (time ** 2) + b * time + c\n",
        "\n",
        "\n",
        "print(f\"At time {time} seconds, the temperature is {temperature:.2f}°C.\")"
      ],
      "metadata": {
        "colab": {
          "base_uri": "https://localhost:8080/"
        },
        "id": "mIgwo84V5k0M",
        "outputId": "2434b44e-8a01-4a57-ae7e-a007dd4eaec8"
      },
      "execution_count": null,
      "outputs": [
        {
          "output_type": "stream",
          "name": "stdout",
          "text": [
            "At time 18.0 seconds, the temperature is 2331.20°C.\n"
          ]
        }
      ]
    },
    {
      "cell_type": "code",
      "source": [
        "# Function to read a single set of coefficients from a file\n",
        "def read_coefficients_from_file(filename):\n",
        "    coefficients = {}\n",
        "    with open(filename, 'r') as file:\n",
        "        for line in file:\n",
        "            key, value = line.strip().split('=')\n",
        "            coefficients[key] = float(value)\n",
        "    return coefficients\n",
        "\n",
        "\n",
        "filename = 'coefficients.txt'\n",
        "\n",
        "\n",
        "coefficients = read_coefficients_from_file(filename)\n",
        "\n",
        "\n",
        "a = coefficients['a']\n",
        "b = coefficients['b']\n",
        "c = coefficients['c']\n",
        "time = coefficients['time']\n",
        "\n",
        "\n",
        "temperature = a * (time ** 2) + b * time + c\n",
        "\n",
        "\n",
        "print(f\"At time {time} seconds, the temperature is {temperature:.2f}°C.\")\n"
      ],
      "metadata": {
        "colab": {
          "base_uri": "https://localhost:8080/"
        },
        "id": "X0wqUe0F6rhZ",
        "outputId": "fc2c6273-45e6-41dd-e479-0f4aaabca4a4"
      },
      "execution_count": null,
      "outputs": [
        {
          "output_type": "stream",
          "name": "stdout",
          "text": [
            "At time 12.0 seconds, the temperature is 787.60°C.\n"
          ]
        }
      ]
    },
    {
      "cell_type": "code",
      "source": [
        "# Function to process multiple sets of inputs from a file\n",
        "def process_multiple_sets(filename):\n",
        "    with open(filename, 'r') as file:\n",
        "        print(\"Processing multiple sets of inputs...\\n\")\n",
        "        for line_num, line in enumerate(file, start=1):\n",
        "            try:\n",
        "                coefficients = {}\n",
        "                for item in line.strip().split(','):\n",
        "                    key, value = item.strip().split('=')\n",
        "                    coefficients[key.strip()] = float(value.strip())\n",
        "\n",
        "                a = coefficients['a']\n",
        "                b = coefficients['b']\n",
        "                c = coefficients['c']\n",
        "                time = coefficients['time']\n",
        "\n",
        "                temperature = a * (time ** 2) + b * time + c\n",
        "\n",
        "                print(f\"Set {line_num}: At time {time} seconds, the temperature is {temperature:.2f}°C.\")\n",
        "            except Exception as e:\n",
        "                print(f\"Error processing line {line_num}: {line.strip()} - {e}\")\n",
        "\n",
        "filename = 'multiple_sets.txt'\n",
        "\n",
        "process_multiple_sets(filename)"
      ],
      "metadata": {
        "colab": {
          "base_uri": "https://localhost:8080/"
        },
        "id": "wqRwozGu7jky",
        "outputId": "0b1a0800-4e13-4cac-c4ac-a272ab510150"
      },
      "execution_count": null,
      "outputs": [
        {
          "output_type": "stream",
          "name": "stdout",
          "text": [
            "Processing multiple sets of inputs...\n",
            "\n",
            "Set 1: At time 21.0 seconds, the temperature is 1388.70°C.\n",
            "Set 2: At time 26.0 seconds, the temperature is 4651.00°C.\n",
            "Set 3: At time 59.0 seconds, the temperature is 33570.80°C.\n"
          ]
        }
      ]
    },
    {
      "cell_type": "code",
      "source": [],
      "metadata": {
        "id": "hvFuEjKN8EJB"
      },
      "execution_count": null,
      "outputs": []
    }
  ]
}